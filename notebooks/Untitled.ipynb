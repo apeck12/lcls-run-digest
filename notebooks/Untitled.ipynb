{
 "cells": [
  {
   "cell_type": "code",
   "execution_count": 1,
   "metadata": {},
   "outputs": [],
   "source": [
    "def retrieve_cspad_data(evt):\n",
    "    \"\"\"\n",
    "    Retrieve intensities collected on CsPad from input event\n",
    "    \n",
    "    ...\n",
    "    \"\"\"\n",
    "    data = list()\n",
    "    cspad = evt.get(psana.CsPad.DataV2, psana.Source('DscCsPad'))\n",
    "    for num in range(cspad.quads_shape()[0]):\n",
    "        data.append(cspad.quads(num).data())\n",
    "    return data"
   ]
  },
  {
   "cell_type": "code",
   "execution_count": null,
   "metadata": {},
   "outputs": [],
   "source": [
    "gfeom_file=\"/cds/data/psdm/cxi/cxi04915/cal\""
   ]
  }
 ],
 "metadata": {
  "kernelspec": {
   "display_name": "LCLS-I py2",
   "language": "python",
   "name": "ana1-current"
  },
  "language_info": {
   "codemirror_mode": {
    "name": "ipython",
    "version": 2
   },
   "file_extension": ".py",
   "mimetype": "text/x-python",
   "name": "python",
   "nbconvert_exporter": "python",
   "pygments_lexer": "ipython2",
   "version": "2.7.15"
  }
 },
 "nbformat": 4,
 "nbformat_minor": 2
}
